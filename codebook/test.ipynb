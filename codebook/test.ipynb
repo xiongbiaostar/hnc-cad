{
 "cells": [
  {
   "cell_type": "code",
   "execution_count": 22,
   "id": "384dca8f-60fe-4b87-81a4-3efbd3db4ab6",
   "metadata": {},
   "outputs": [],
   "source": [
    "import torch\n",
    "import pickle\n",
    "\n",
    "class RPLANDataset(torch.utils.data.Dataset):\n",
    "    def __init__(self, path):\n",
    "        print('Loading Data...')\n",
    "        \n",
    "        with open(path, 'rb') as f:\n",
    "            dataset = pickle.load(f)\n",
    "        self.param = dataset['param']\n",
    "        self.seq_length = dataset['seq_mask']\n",
    "        self.mask_length = dataset['ignore_mask']\n",
    "\n",
    "    def __len__(self):\n",
    "        return len(self.param)\n",
    "\n",
    "    def __getitem__(self, idx):\n",
    "        param_sample = torch.tensor(self.param[idx], dtype=torch.int)\n",
    "        seq_length_sample = torch.tensor(self.seq_length[idx], dtype=torch.bool)\n",
    "        mask_length_sample = torch.tensor(self.mask_length[idx], dtype=torch.bool)\n",
    "\n",
    "        return param_sample, seq_length_sample, mask_length_sample"
   ]
  },
  {
   "cell_type": "code",
   "execution_count": 23,
   "id": "d72bfe08-2882-49b2-82b4-2820919cdd2d",
   "metadata": {},
   "outputs": [
    {
     "name": "stdout",
     "output_type": "stream",
     "text": [
      "当前工作目录是： /root/new/hnc-cad/codebook\n"
     ]
    }
   ],
   "source": [
    "import os\n",
    "\n",
    "# 查看当前的工作目录\n",
    "current_directory = os.getcwd()\n",
    "print(\"当前工作目录是：\", current_directory)\n"
   ]
  },
  {
   "cell_type": "code",
   "execution_count": 24,
   "id": "3f9b29e0-18c4-4298-ba88-c95ef9d3ed9a",
   "metadata": {},
   "outputs": [
    {
     "name": "stdout",
     "output_type": "stream",
     "text": [
      "Loading Data...\n"
     ]
    }
   ],
   "source": [
    "dataset = RPLANDataset('test.pkl')"
   ]
  },
  {
   "cell_type": "code",
   "execution_count": 25,
   "id": "fa5bc94d-b918-4789-91fc-3db5a428abc6",
   "metadata": {},
   "outputs": [],
   "source": [
    "dataloader = torch.utils.data.DataLoader(dataset, \n",
    "                                             shuffle=False, \n",
    "                                             batch_size=256,\n",
    "                                             num_workers=0)"
   ]
  },
  {
   "cell_type": "code",
   "execution_count": 26,
   "id": "1d01a410-1b12-4e20-b49b-6436fecc4470",
   "metadata": {},
   "outputs": [],
   "source": [
    "from model.encoder import RPLANEncoder\n",
    "from model.decoder import RPLANDecoder\n",
    "encoder = RPLANEncoder()\n",
    "encoder.load_state_dict(torch.load(f'../proj_log/RPLAN/enc_epoch_500.pt'))\n",
    "encoder = encoder.cuda().eval()\n",
    "decoder = RPLANDecoder()\n",
    "decoder.load_state_dict(torch.load(f'../proj_log/RPLAN/dec_epoch_500.pt'))\n",
    "decoder = decoder.cuda().eval()"
   ]
  },
  {
   "cell_type": "code",
   "execution_count": 27,
   "id": "73cca244-9dc8-4d75-a7be-5b2ba813d165",
   "metadata": {},
   "outputs": [],
   "source": [
    "result = []\n",
    "\n",
    "for param, seq_mask, ignore_mask in dataloader:\n",
    "    param = param.cuda()\n",
    "    seq_mask = seq_mask.cuda()\n",
    "    ignore_mask = ignore_mask.cuda()\n",
    "    latent_code, vq_loss, selection, _ = encoder(((ignore_mask == False) * param), seq_mask)\n",
    "    param_logits = decoder(((ignore_mask == False) * param), seq_mask, ignore_mask, latent_code)\n",
    "    max_values, max_indices = torch.max(param_logits, dim=3)\n",
    "    \n",
    "    for i in range(ignore_mask.shape[0]):\n",
    "        matrix = max_indices[i] * (ignore_mask[i])\n",
    "        non_zero_rows = matrix[~torch.all(matrix == 0, axis=1)]\n",
    "        result.append(non_zero_rows.cpu().detach().numpy())"
   ]
  },
  {
   "cell_type": "code",
   "execution_count": 28,
   "id": "da7ad277-c76d-4bef-bd3c-29e0d06694dc",
   "metadata": {},
   "outputs": [],
   "source": [
    "import pickle\n",
    "\n",
    "\n",
    "# 将 result 对象保存到文件 'result.pkl'\n",
    "with open('result.pkl', 'wb') as f:\n",
    "    pickle.dump(result, f)\n"
   ]
  },
  {
   "cell_type": "code",
   "execution_count": null,
   "id": "f55c81ca-ceae-43f6-8655-28947c785119",
   "metadata": {},
   "outputs": [],
   "source": []
  }
 ],
 "metadata": {
  "kernelspec": {
   "display_name": "Python 3 (ipykernel)",
   "language": "python",
   "name": "python3"
  },
  "language_info": {
   "codemirror_mode": {
    "name": "ipython",
    "version": 3
   },
   "file_extension": ".py",
   "mimetype": "text/x-python",
   "name": "python",
   "nbconvert_exporter": "python",
   "pygments_lexer": "ipython3",
   "version": "3.12.3"
  }
 },
 "nbformat": 4,
 "nbformat_minor": 5
}
